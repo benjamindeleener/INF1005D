{
 "cells": [
  {
   "cell_type": "markdown",
   "metadata": {},
   "source": [
    "# Problème de contraintes dans une poutre encastrée\n",
    "\n",
    "Nous désirons calculer la déformation maximale d'une poutre encastrée recevant une force au niveau de son extrémité et dont la section est rectangulaire, tel que présenté dans la figure ci-dessous.\n",
    "\n",
    "![Poutre encastrée](poutre_section.PNG)\n",
    "\n",
    "Afin de résoudre ce problème, nous pouvons utiliser des formules connues en résistance des matériaux, permettant de calculer la flèche maximale, ainsi que la déformée de la poutre.\n",
    "\n",
    "La formule de la déformation maximale pour une poutre encastrée est:\n",
    "\n",
    "\\begin{equation*}\n",
    "\\Delta_{max} = \\frac{F L^3}{3 E I}\n",
    "\\end{equation*}\n",
    "\n",
    "où:\n",
    "\n",
    "- F est la force appliquée \n",
    "- E est le module de Young\n",
    "- I est le moment quadratique de la section\n",
    "- L est la longueur de la poutre\n",
    "\n",
    "\n",
    "## Définition des variables de base\n",
    "\n",
    "Nous allons initialiser quatre variables correspondants aux paramètres d'entrées du problème."
   ]
  },
  {
   "cell_type": "code",
   "execution_count": 19,
   "metadata": {},
   "outputs": [],
   "source": [
    "F = 0.1  # GPa\n",
    "E = 210  # GPa\n",
    "L = 30  # cm\n",
    "b = 1  # cm\n",
    "h = 2  # cm"
   ]
  },
  {
   "cell_type": "markdown",
   "metadata": {},
   "source": [
    "Afin de calculer la déformation maximale, il est nécessaire de calculer la valeur du moment quadratique de la section. \n",
    "La poutre ayant une section rectangulaire, son moment quadratique peut être calculé avec l'équation suivant:\n",
    "\n",
    "\\begin{equation*}\n",
    "I = \\frac{b h}{12} (b^2 + h^2)\n",
    "\\end{equation*}\n",
    "\n",
    "Nous pouvons donc créer et initialiser la variable du moment en reprenant la formule."
   ]
  },
  {
   "cell_type": "code",
   "execution_count": 17,
   "metadata": {},
   "outputs": [
    {
     "name": "stdout",
     "output_type": "stream",
     "text": [
      "La valeur du moment quadratique de la section de la poutre est égal à 0.8333333333333333 cm^4.\n"
     ]
    }
   ],
   "source": [
    "I = (b * h / 12) * (b ** 2 + h ** 2)\n",
    "\n",
    "print(\"La valeur du moment quadratique de la section de la poutre est égal à \" + str(I) + \" cm^4.\")"
   ]
  },
  {
   "cell_type": "markdown",
   "metadata": {},
   "source": [
    "## Calcul de la déformation maximale"
   ]
  },
  {
   "cell_type": "code",
   "execution_count": 20,
   "metadata": {},
   "outputs": [
    {
     "name": "stdout",
     "output_type": "stream",
     "text": [
      "La déformation maximale de la poutre encastrée est de 5.142857142857143 cm\n"
     ]
    }
   ],
   "source": [
    "delta_max = (F * L ** 3) / (3 * E * I)\n",
    "\n",
    "print(\"La déformation maximale de la poutre encastrée est de \" + str(delta_max) + \" cm\")"
   ]
  },
  {
   "cell_type": "code",
   "execution_count": null,
   "metadata": {},
   "outputs": [],
   "source": []
  }
 ],
 "metadata": {
  "kernelspec": {
   "display_name": "Python 3",
   "language": "python",
   "name": "python3"
  },
  "language_info": {
   "codemirror_mode": {
    "name": "ipython",
    "version": 3
   },
   "file_extension": ".py",
   "mimetype": "text/x-python",
   "name": "python",
   "nbconvert_exporter": "python",
   "pygments_lexer": "ipython3",
   "version": "3.6.5"
  }
 },
 "nbformat": 4,
 "nbformat_minor": 2
}
