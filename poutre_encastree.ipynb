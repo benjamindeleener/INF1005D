{
 "cells": [
  {
   "cell_type": "markdown",
   "metadata": {},
   "source": [
    "# Problème de contraintes dans une poutre encastrée\n",
    "\n",
    "Nous désirons calculer la déformation maximale d'une poutre encastrée recevant une force au niveau de son extrémité et dont la section est rectangulaire, tel que présenté dans la figure ci-dessous.\n",
    "\n",
    "![Poutre encastrée](poutre_section.PNG)\n",
    "\n",
    "Afin de résoudre ce problème, nous pouvons utiliser des formules connues en résistance des matériaux, permettant de calculer la flèche maximale, ainsi que la déformée de la poutre.\n",
    "\n",
    "La formule de la déformation maximale pour une poutre encastrée est:\n",
    "\n",
    "\\begin{equation*}\n",
    "\\Delta_{max} = \\frac{F L^3}{3 E I}\n",
    "\\end{equation*}\n",
    "\n",
    "où:\n",
    "\n",
    "- F est la force appliquée \n",
    "- E est le module de Young\n",
    "- I est le moment quadratique de la section\n",
    "- L est la longueur de la poutre\n",
    "\n",
    "\n",
    "## Définition des variables de base\n",
    "\n",
    "Nous allons initialiser quatre variables correspondants aux paramètres d'entrées du problème. Nous allons assumer que la poutre est en acier et possède donc un module de Young de 210 GPa. La force appliquée correspond environ à un poids de 10 kg appliqué à l'extrémité de la poutre. Attention d'utiliser les bonnes unités dans les mesures."
   ]
  },
  {
   "cell_type": "code",
   "execution_count": 2,
   "metadata": {},
   "outputs": [],
   "source": [
    "F = 100  # N\n",
    "E = 210  # GPa = 10^3 N/mm^2\n",
    "L = 100  # mm\n",
    "b = 10  # mm\n",
    "h = 20  # mm"
   ]
  },
  {
   "cell_type": "markdown",
   "metadata": {},
   "source": [
    "Afin de calculer la déformation maximale, il est nécessaire de calculer la valeur du moment quadratique de la section. \n",
    "La poutre ayant une section rectangulaire, son moment quadratique peut être calculé avec l'équation suivant:\n",
    "\n",
    "\\begin{equation*}\n",
    "I = \\frac{b h}{12} (b^2 + h^2)\n",
    "\\end{equation*}\n",
    "\n",
    "Nous pouvons donc créer et initialiser la variable du moment en reprenant la formule."
   ]
  },
  {
   "cell_type": "code",
   "execution_count": 6,
   "metadata": {},
   "outputs": [
    {
     "name": "stdout",
     "output_type": "stream",
     "text": [
      "La valeur du moment quadratique de la section de la poutre est égal à 8333.333333333334 mm^4.\n"
     ]
    }
   ],
   "source": [
    "I = (b * h / 12) * (b ** 2 + h ** 2)\n",
    "\n",
    "print(\"La valeur du moment quadratique de la section de la poutre est égal à \" + str(I) + \" mm^4.\")"
   ]
  },
  {
   "cell_type": "markdown",
   "metadata": {},
   "source": [
    "## Calcul de la déformation maximale"
   ]
  },
  {
   "cell_type": "code",
   "execution_count": 5,
   "metadata": {},
   "outputs": [
    {
     "name": "stdout",
     "output_type": "stream",
     "text": [
      "La déformation maximale de la poutre encastrée est de 0.01904761904761905 cm\n"
     ]
    }
   ],
   "source": [
    "delta_max = (F * L ** 3) / (3 * E * 1e3 * I)\n",
    "\n",
    "print(\"La déformation maximale de la poutre encastrée est de \" + str(delta_max) + \" cm\")"
   ]
  },
  {
   "cell_type": "markdown",
   "metadata": {},
   "source": [
    "Afin d'observer l'effet des paramètres du problème sur son résultats, essayez de modifier ces paramètres pour plusieurs situations:\n",
    "\n",
    "- La poutre mesure 3 m ;\n",
    "- La poutre est en or ;\n",
    "- La section de la poutre est circulaire, avec un diamètre de 15 mm"
   ]
  },
  {
   "cell_type": "code",
   "execution_count": null,
   "metadata": {},
   "outputs": [],
   "source": []
  }
 ],
 "metadata": {
  "kernelspec": {
   "display_name": "Python 3",
   "language": "python",
   "name": "python3"
  },
  "language_info": {
   "codemirror_mode": {
    "name": "ipython",
    "version": 3
   },
   "file_extension": ".py",
   "mimetype": "text/x-python",
   "name": "python",
   "nbconvert_exporter": "python",
   "pygments_lexer": "ipython3",
   "version": "3.6.5"
  }
 },
 "nbformat": 4,
 "nbformat_minor": 2
}
